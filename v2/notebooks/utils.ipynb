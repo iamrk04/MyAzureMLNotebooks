{
 "cells": [
  {
   "cell_type": "markdown",
   "metadata": {},
   "source": [
    "# All helper code"
   ]
  },
  {
   "cell_type": "markdown",
   "metadata": {},
   "source": [
    "### Create Managed Identity"
   ]
  },
  {
   "cell_type": "code",
   "execution_count": null,
   "metadata": {},
   "outputs": [],
   "source": [
    "from azure.mgmt.msi import ManagedServiceIdentityClient\n",
    "from azure.mgmt.msi.models import Identity\n",
    "from azure.identity import AzureCliCredential\n",
    "\n",
    "subscription_id=\"\"\n",
    "workspace_location = \"\"\n",
    "resource_group = \"\"\n",
    "uai_name = \"\"\n",
    "\n",
    "credential = AzureCliCredential()\n",
    "msi_client = ManagedServiceIdentityClient(\n",
    "    subscription_id=subscription_id,\n",
    "    credential=credential,\n",
    ")"
   ]
  },
  {
   "cell_type": "code",
   "execution_count": null,
   "metadata": {},
   "outputs": [],
   "source": [
    "msi_client.user_assigned_identities.create_or_update(\n",
    "    resource_group_name=resource_group,\n",
    "    resource_name=uai_name,\n",
    "    parameters=Identity(location=workspace_location),\n",
    ")"
   ]
  },
  {
   "cell_type": "code",
   "execution_count": null,
   "metadata": {},
   "outputs": [],
   "source": [
    "uai_identity = msi_client.user_assigned_identities.get(\n",
    "    resource_group_name=resource_group,\n",
    "    resource_name=uai_name,\n",
    ")\n",
    "uai_identity.as_dict()"
   ]
  },
  {
   "cell_type": "markdown",
   "metadata": {},
   "source": [
    "## Jinja Template"
   ]
  },
  {
   "cell_type": "code",
   "execution_count": 1,
   "metadata": {},
   "outputs": [
    {
     "data": {
      "text/plain": [
       "'{\"prompt\": \"Who is the strongest animal?\", \"temperature\": 1.0, \"top_k\": 1, \"top_p\": 0, \"max_output_token\": 100}'"
      ]
     },
     "execution_count": 1,
     "metadata": {},
     "output_type": "execute_result"
    }
   ],
   "source": [
    "from jinja2 import Template\n",
    "\n",
    "template = '{\"prompt\": \"{{prompt}}\", \"temperature\": 1.0, \"top_k\": 1, \"top_p\": 0, \"max_output_token\": 100}'\n",
    "data = {'prompt': 'Who is the strongest animal?', 'ground_truth': 'elephant'}\n",
    "data = Template(template).render(**data)\n",
    "data"
   ]
  },
  {
   "cell_type": "markdown",
   "metadata": {},
   "source": [
    "## Something new"
   ]
  },
  {
   "cell_type": "markdown",
   "metadata": {},
   "source": []
  }
 ],
 "metadata": {
  "kernelspec": {
   "display_name": "dpv2_copy",
   "language": "python",
   "name": "python3"
  },
  "language_info": {
   "codemirror_mode": {
    "name": "ipython",
    "version": 3
   },
   "file_extension": ".py",
   "mimetype": "text/x-python",
   "name": "python",
   "nbconvert_exporter": "python",
   "pygments_lexer": "ipython3",
   "version": "3.8.0"
  }
 },
 "nbformat": 4,
 "nbformat_minor": 2
}
