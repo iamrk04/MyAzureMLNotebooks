{
 "cells": [
  {
   "cell_type": "markdown",
   "metadata": {},
   "source": [
    "# 1 Resources and Assets"
   ]
  },
  {
   "cell_type": "markdown",
   "metadata": {},
   "source": [
    "## 1.1 Workspace"
   ]
  },
  {
   "cell_type": "markdown",
   "metadata": {},
   "source": [
    "### 1.1.1 Get Workspace"
   ]
  },
  {
   "cell_type": "code",
   "execution_count": null,
   "metadata": {},
   "outputs": [],
   "source": [
    "from azure.ai.ml import MLClient\n",
    "from azure.ai.ml.entities import Workspace\n",
    "from azure.identity import DefaultAzureCredential\n",
    "import pandas as pd\n",
    "\n",
    "ml_client = MLClient.from_config(\n",
    "    DefaultAzureCredential()\n",
    ")\n",
    "\n",
    "workspace = ml_client.workspaces.get(name=ml_client.workspace_name)\n",
    "\n",
    "output = {}\n",
    "output[\"Workspace\"] = ml_client.workspace_name\n",
    "output[\"Subscription ID\"] = ml_client.connections._subscription_id\n",
    "output[\"Resource Group\"] = workspace.resource_group\n",
    "output[\"Location\"] = workspace.location\n",
    "pd.set_option(\"display.max_colwidth\", None)\n",
    "outputDf = pd.DataFrame(data=output, index=[\"\"])\n",
    "outputDf.T"
   ]
  },
  {
   "cell_type": "markdown",
   "metadata": {},
   "source": [
    "### 1.1.2 Create Workspace"
   ]
  },
  {
   "cell_type": "code",
   "execution_count": null,
   "metadata": {},
   "outputs": [],
   "source": [
    "from azure.ai.ml import MLClient\n",
    "from azure.ai.ml.entities import Workspace\n",
    "from azure.identity import DefaultAzureCredential\n",
    "import json\n",
    "\n",
    "with open(\".../ws-details.json\") as f:\n",
    "    ws_details = json.load(f)\n",
    "\n",
    "workspace_name = ws_details[\"workspace_name\"]\n",
    "subscription_id = ws_details[\"subscription_id\"]\n",
    "resource_group = ws_details[\"resource_group\"]\n",
    "workspace_region = ws_details[\"workspace_region\"]\n",
    "\n",
    "# get a handle to the subscription\n",
    "ml_client = MLClient(DefaultAzureCredential(), subscription_id, resource_group)\n",
    "\n",
    "# specify the workspace details\n",
    "ws = Workspace(\n",
    "    name=workspace_name,\n",
    "    location=\"eastus\",\n",
    "    display_name=workspace_name,\n",
    "    description=\"This example shows how to create a workspace\",\n",
    "    tags=dict(purpose=\"demo\"),\n",
    ")\n",
    "\n",
    "ml_client.workspaces.begin_create(ws)"
   ]
  },
  {
   "cell_type": "markdown",
   "metadata": {},
   "source": [
    "## 1.2 Compute"
   ]
  },
  {
   "cell_type": "markdown",
   "metadata": {},
   "source": [
    "### 1.2.1 Create/Get Compute Cluster"
   ]
  },
  {
   "cell_type": "code",
   "execution_count": null,
   "metadata": {},
   "outputs": [],
   "source": [
    "from azure.core.exceptions import ResourceNotFoundError\n",
    "from azure.ai.ml.entities import AmlCompute\n",
    "\n",
    "cluster_name = \"gen-purpose\"\n",
    "\n",
    "try:\n",
    "    # Retrieve an already attached Azure Machine Learning Compute.\n",
    "    compute = ml_client.compute.get(cluster_name)\n",
    "except ResourceNotFoundError as e:\n",
    "    compute = AmlCompute(\n",
    "        name=cluster_name,\n",
    "        size=\"STANDARD_D16S_V3\",\n",
    "        type=\"amlcompute\",\n",
    "        min_instances=0,\n",
    "        max_instances=10,\n",
    "        idle_time_before_scale_down=120,\n",
    "    )\n",
    "    poller = ml_client.begin_create_or_update(compute)\n",
    "    poller.wait()"
   ]
  },
  {
   "cell_type": "markdown",
   "metadata": {},
   "source": [
    "## 1.3 Datastore"
   ]
  },
  {
   "cell_type": "markdown",
   "metadata": {},
   "source": [
    "### 1.3.1 Get datastore from your workspace"
   ]
  },
  {
   "cell_type": "code",
   "execution_count": null,
   "metadata": {},
   "outputs": [],
   "source": [
    "# Get a named datastore from the current workspace\n",
    "datastore = ml_client.datastores.get(name='workspaceblobstore')\n",
    "\n",
    "# Get default datastore from the current workspace\n",
    "datastore = ml_client.datastores.get_default()"
   ]
  },
  {
   "cell_type": "markdown",
   "metadata": {},
   "source": [
    "### 1.3.2 Create a datastore from Azure Blob container\n",
    "Refer [this link](https://learn.microsoft.com/en-us/azure/machine-learning/migrate-to-v2-resource-datastore)."
   ]
  },
  {
   "cell_type": "markdown",
   "metadata": {},
   "source": [
    "## 1.4 Data assets\n",
    "Refer [this link](https://learn.microsoft.com/en-us/azure/machine-learning/migrate-to-v2-assets-data)."
   ]
  },
  {
   "cell_type": "markdown",
   "metadata": {},
   "source": [
    "### 1.4.1 Create MLTable"
   ]
  },
  {
   "cell_type": "code",
   "execution_count": null,
   "metadata": {},
   "outputs": [],
   "source": [
    "import yaml\n",
    "import os\n",
    "import shutil\n",
    "\n",
    "\n",
    "def create_folder_and_ml_table(csv_file, output, delimiter=\",\", encoding=\"ascii\"):\n",
    "    os.makedirs(output, exist_ok=True)\n",
    "    fname = os.path.split(csv_file)[-1]\n",
    "\n",
    "    mltable = {\n",
    "        \"paths\": [{\"file\": f\"./{fname}\"}],\n",
    "        \"transformations\": [\n",
    "            {\"read_delimited\": {\"delimiter\": delimiter, \"encoding\": encoding}}\n",
    "        ],\n",
    "    }\n",
    "    with open(os.path.join(output, \"MLTable\"), \"w\") as f:\n",
    "        f.write(yaml.dump(mltable))\n",
    "    shutil.copy(csv_file, os.path.join(output, fname))\n",
    "\n",
    "train_data_path = \"../data/dominicks_OJ.csv\"\n",
    "train_mltable_path = \"../data/training-mltable-folder\"\n",
    "\n",
    "create_folder_and_ml_table(train_data_path, train_mltable_path)\n",
    "\n",
    "# Training MLTable defined locally, with local data to be uploaded\n",
    "# my_training_data_input = Input(type=AssetTypes.MLTABLE, path=train_mltable_path)"
   ]
  },
  {
   "cell_type": "markdown",
   "metadata": {},
   "source": [
    "### 1.4.2 Use data in a job"
   ]
  },
  {
   "cell_type": "code",
   "execution_count": null,
   "metadata": {},
   "outputs": [],
   "source": [
    "from azure.ai.ml import command\n",
    "from azure.ai.ml.entities import Data\n",
    "from azure.ai.ml import Input, Output\n",
    "from azure.ai.ml.constants import AssetTypes\n",
    "\n",
    "# Possible Asset Types for Data:\n",
    "# AssetTypes.URI_FILE\n",
    "# AssetTypes.URI_FOLDER\n",
    "# AssetTypes.MLTABLE\n",
    "\n",
    "# Possible Paths for Data:\n",
    "# Blob: https://<account_name>.blob.core.windows.net/<container_name>/<folder>/<file>\n",
    "# Datastore: azureml://datastores/paths/<folder>/<file>\n",
    "# Data Asset: azureml:<my_data>:<version>\n",
    "\n",
    "my_job_inputs = {\n",
    "    \"raw_data\": Input(type=AssetTypes.URI_FOLDER, path=\"<path>\")\n",
    "}\n",
    "\n",
    "my_job_outputs = {\n",
    "    \"prep_data\": Output(type=AssetTypes.URI_FOLDER, path=\"<path>\")\n",
    "}\n",
    "\n",
    "job = command(\n",
    "    code=\"./src\",  # local path where the code is stored\n",
    "    command=\"python process_data.py --raw_data ${{inputs.raw_data}} --prep_data ${{outputs.prep_data}}\",\n",
    "    inputs=my_job_inputs,\n",
    "    outputs=my_job_outputs,\n",
    "    environment=\"<environment_name>:<version>\",\n",
    "    compute=\"cpu-cluster\",\n",
    ")\n",
    "\n",
    "# submit the command\n",
    "returned_job = ml_client.create_or_update(job)\n",
    "# get a URL for the status of the job\n",
    "returned_job.services[\"Studio\"].endpoint"
   ]
  },
  {
   "cell_type": "markdown",
   "metadata": {},
   "source": [
    "### 1.4.3 Read and write data in jobs\n",
    "Refer [this link](https://learn.microsoft.com/en-us/azure/machine-learning/how-to-read-write-data-v2?tabs=python).\n",
    "\n",
    "Covers:\n",
    "- Supported paths\n",
    "- Supported modes"
   ]
  },
  {
   "cell_type": "markdown",
   "metadata": {},
   "source": [
    "## 1.5 Model assets\n",
    "Refer [this link](https://learn.microsoft.com/en-us/azure/machine-learning/migrate-to-v2-assets-model)."
   ]
  },
  {
   "cell_type": "markdown",
   "metadata": {},
   "source": [
    "## 1.6 Environment"
   ]
  },
  {
   "cell_type": "markdown",
   "metadata": {},
   "source": [
    "### 1.6.1 Get environment"
   ]
  },
  {
   "cell_type": "code",
   "execution_count": null,
   "metadata": {},
   "outputs": [],
   "source": [
    "environment = ml_client.environments.get(\n",
    "    name=\"AzureML-sklearn-0.24-ubuntu18.04-py37-cpu\",\n",
    "    label=\"latest\"\n",
    ")"
   ]
  },
  {
   "cell_type": "markdown",
   "metadata": {},
   "source": [
    "### 1.6.2 Create environment"
   ]
  },
  {
   "cell_type": "code",
   "execution_count": null,
   "metadata": {},
   "outputs": [],
   "source": [
    "from azure.ai.ml.entities import Environment\n",
    "\n",
    "dependencies_dir = \"../dependencies\"\n",
    "custom_env_name = \"aml-scikit-learn\"\n",
    "\n",
    "pipeline_job_env = Environment(\n",
    "    name=custom_env_name,\n",
    "    description=\"Custom environment for demo\",\n",
    "    tags={\"scikit-learn\": \"0.24.2\"},\n",
    "    conda_file=os.path.join(dependencies_dir, \"conda.yml\"),\n",
    "    image=\"mcr.microsoft.com/azureml/openmpi3.1.2-ubuntu18.04:latest\",\n",
    ")\n",
    "pipeline_job_env = ml_client.environments.create_or_update(pipeline_job_env)\n",
    "\n",
    "print(\n",
    "    f\"Environment with name {pipeline_job_env.name} is registered to workspace, the environment version is {pipeline_job_env.version}\"\n",
    ")"
   ]
  },
  {
   "cell_type": "markdown",
   "metadata": {},
   "source": [
    "# 2 Training"
   ]
  },
  {
   "cell_type": "markdown",
   "metadata": {},
   "source": [
    "- [Run a script](https://learn.microsoft.com/en-us/azure/machine-learning/migrate-to-v2-command-job)\n",
    "- [Local runs](https://learn.microsoft.com/en-us/azure/machine-learning/migrate-to-v2-local-runs)\n",
    "- [AutoML](https://learn.microsoft.com/en-us/azure/machine-learning/migrate-to-v2-execution-automl)\n",
    "- [Hyperparameter Tuning](https://learn.microsoft.com/en-us/azure/machine-learning/migrate-to-v2-execution-hyperdrive)\n",
    "- Parallel run step\n",
    "    - [SDK v1 vs SDK v2](https://learn.microsoft.com/en-us/azure/machine-learning/migrate-to-v2-execution-pipeline)\n",
    "    - [Example Notebook](https://github.com/Azure/azureml-examples/blob/main/sdk/python/jobs/pipelines/1g_pipeline_with_parallel_nodes/pipeline_with_parallel_nodes.ipynb)\n",
    "- Pipelines\n",
    "    - [SDK v1 vs SDK v2](https://learn.microsoft.com/en-us/azure/machine-learning/migrate-to-v2-execution-pipeline)\n",
    "    - [Example Notebook](https://github.com/Azure/azureml-examples/blob/main/sdk/python/jobs/pipelines/1b_pipeline_with_python_function_components/pipeline_with_python_function_components.ipynb)"
   ]
  },
  {
   "cell_type": "markdown",
   "metadata": {},
   "source": [
    "# 3 Endpoints"
   ]
  },
  {
   "cell_type": "markdown",
   "metadata": {},
   "source": [
    "- Online endpoints\n",
    "    - [SDK v1 vs SDK v2](https://learn.microsoft.com/en-us/azure/machine-learning/migrate-to-v2-deploy-endpoints)\n",
    "    - [Example](https://github.com/Azure/azureml-examples/tree/main/sdk/python/endpoints/online)\n",
    "- Batch endpoints\n",
    "    - [Example](https://github.com/Azure/azureml-examples/tree/main/sdk/python/endpoints/batch)"
   ]
  }
 ],
 "metadata": {
  "kernelspec": {
   "display_name": "Python 3.10.6 ('dpv2')",
   "language": "python",
   "name": "python3"
  },
  "language_info": {
   "codemirror_mode": {
    "name": "ipython",
    "version": 3
   },
   "file_extension": ".py",
   "mimetype": "text/x-python",
   "name": "python",
   "nbconvert_exporter": "python",
   "pygments_lexer": "ipython3",
   "version": "3.10.6"
  },
  "orig_nbformat": 4,
  "vscode": {
   "interpreter": {
    "hash": "c1e956f162afe3c1e928078df60ceb136edefb1dd887e3e6dec60c9c74d3f6cc"
   }
  }
 },
 "nbformat": 4,
 "nbformat_minor": 2
}
