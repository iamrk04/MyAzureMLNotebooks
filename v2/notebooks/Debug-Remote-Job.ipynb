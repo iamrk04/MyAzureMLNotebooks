{
 "cells": [
  {
   "cell_type": "markdown",
   "metadata": {},
   "source": [
    "Copyright (c) Rahul Kumar. All rights reserved.\n",
    "\n",
    "Licensed under the MIT License."
   ]
  },
  {
   "cell_type": "markdown",
   "metadata": {},
   "source": [
    "."
   ]
  },
  {
   "cell_type": "markdown",
   "metadata": {},
   "source": [
    "# Debug Remote Jobs\n",
    "This notebook demonstrates how to debug the job remotely like developers typically do on their local machines. Jobs can be interacted with via different training applications including ``JupyterLab``, ``TensorBoard``, ``VSCode`` or by connecting to the job container directly via ``SSH``. Please refer [this link](https://learn.microsoft.com/en-us/azure/machine-learning/how-to-interactive-jobs?tabs=ui#attach-a-debugger-to-a-job) for further information."
   ]
  },
  {
   "cell_type": "markdown",
   "metadata": {},
   "source": [
    "## Workspace"
   ]
  },
  {
   "cell_type": "code",
   "execution_count": null,
   "metadata": {
    "collapsed": false,
    "gather": {
     "logged": 1634853282858
    },
    "jupyter": {
     "outputs_hidden": false,
     "source_hidden": false
    },
    "nteract": {
     "transient": {
      "deleting": false
     }
    }
   },
   "outputs": [],
   "source": [
    "from azure.ai.ml import MLClient\n",
    "from azure.identity import DefaultAzureCredential\n",
    "\n",
    "ml_client = MLClient.from_config(\n",
    "    DefaultAzureCredential()\n",
    ")"
   ]
  },
  {
   "cell_type": "markdown",
   "metadata": {},
   "source": [
    "## Configure Command job\n",
    "- The ``JobService`` class is required which has to be used in ``services`` parameter of ``command`` job.\n",
    "- Pay special attention to the ``command`` parameter of ``command`` job, ``debugpy`` has to be used in order to debug with ``VSCode``."
   ]
  },
  {
   "cell_type": "code",
   "execution_count": null,
   "metadata": {
    "collapsed": false,
    "gather": {
     "logged": 1634853282955
    },
    "jupyter": {
     "outputs_hidden": false,
     "source_hidden": false
    },
    "nteract": {
     "transient": {
      "deleting": false
     }
    }
   },
   "outputs": [],
   "source": [
    "from azure.ai.ml import command, Input\n",
    "from azure.ai.ml.entities import JobService\n",
    "\n",
    "# create the command\n",
    "job = command(\n",
    "    code=\"../scripts\",  # local path where the code is stored\n",
    "    command=\"python -m debugpy --listen localhost:5678 --wait-for-client main.py --diabetes-csv ${{inputs.diabetes}}\",\n",
    "    inputs={\n",
    "        \"diabetes\": Input(\n",
    "            type=\"uri_file\",\n",
    "            path=\"https://azuremlexamples.blob.core.windows.net/datasets/diabetes.csv\",\n",
    "        )\n",
    "    },\n",
    "    environment=\"AzureML-sklearn-0.24-ubuntu18.04-py37-cpu@latest\",\n",
    "    compute=\"cpu-cluster\",\n",
    "    display_name=\"sklearn-diabetes-example\",\n",
    "    services={\n",
    "      \"My_jupyterlab\": JobService(\n",
    "        job_service_type=\"JupyterLab\",\n",
    "        nodes=\"all\" # For distributed jobs, use the `nodes` property to pick which node you want to enable interactive services on. If `nodes` are not selected, by default, interactive applications are only enabled on the head node. Values are \"all\", or compute node index (for ex. \"0\", \"1\" etc.)\n",
    "      ),\n",
    "      \"My_vscode\": JobService(\n",
    "        job_service_type=\"VSCode\",\n",
    "        nodes=\"all\"\n",
    "      ),\n",
    "      \"My_tensorboard\": JobService(\n",
    "        job_service_type=\"TensorBoard\",\n",
    "        nodes=\"all\",\n",
    "        properties={\n",
    "            \"logDir\": \"output/tblogs\"  # relative path of Tensorboard logs (same as in your training script)\n",
    "        }          \n",
    "      ),\n",
    "      \"My_ssh\": JobService(\n",
    "        job_service_type=\"SSH\",\n",
    "        sshPublicKeys=\"<add-public-key>\",\n",
    "        nodes=\"all\",\n",
    "        properties={\n",
    "            \"sshPublicKeys\":\"<add-public-key>\"\n",
    "        }    \n",
    "      ),\n",
    "    }\n",
    "    # description,\n",
    "    # experiment_name\n",
    ")"
   ]
  },
  {
   "cell_type": "markdown",
   "metadata": {},
   "source": [
    "## Run the Command"
   ]
  },
  {
   "cell_type": "code",
   "execution_count": null,
   "metadata": {
    "collapsed": false,
    "gather": {
     "logged": 1634853289583
    },
    "jupyter": {
     "outputs_hidden": false,
     "source_hidden": false
    },
    "nteract": {
     "transient": {
      "deleting": false
     }
    }
   },
   "outputs": [],
   "source": [
    "returned_job = ml_client.create_or_update(job)\n",
    "returned_job"
   ]
  }
 ],
 "metadata": {
  "description": {
   "description": "Run Command to train a scikit-learn LinearRegression model on the Diabetes dataset"
  },
  "kernel_info": {
   "name": "python3-azureml"
  },
  "kernelspec": {
   "display_name": "Python 3.10.6 ('dpv2')",
   "language": "python",
   "name": "python3"
  },
  "language_info": {
   "codemirror_mode": {
    "name": "ipython",
    "version": 3
   },
   "file_extension": ".py",
   "mimetype": "text/x-python",
   "name": "python",
   "nbconvert_exporter": "python",
   "pygments_lexer": "ipython3",
   "version": "3.10.6"
  },
  "nteract": {
   "version": "nteract-front-end@1.0.0"
  },
  "vscode": {
   "interpreter": {
    "hash": "c1e956f162afe3c1e928078df60ceb136edefb1dd887e3e6dec60c9c74d3f6cc"
   }
  }
 },
 "nbformat": 4,
 "nbformat_minor": 4
}
