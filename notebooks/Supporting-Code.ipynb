{
 "cells": [
  {
   "cell_type": "markdown",
   "metadata": {},
   "source": [
    "## Create/Get Workspace"
   ]
  },
  {
   "cell_type": "code",
   "execution_count": null,
   "metadata": {},
   "outputs": [],
   "source": [
    "from azureml.core import Workspace\n",
    "from azureml.exceptions import UserErrorException\n",
    "import json\n",
    "\n",
    "try:\n",
    "    ws = Workspace.from_config()\n",
    "    print(\"Workspace Loaded\")\n",
    "\n",
    "except UserErrorException:\n",
    "    with open(\"../ws-details.json\") as f:\n",
    "        ws_details = json.load(f)\n",
    "\n",
    "    workspace_name = ws_details[\"workspace_name\"]\n",
    "    subscription_id = ws_details[\"subscription_id\"]\n",
    "    resource_group = ws_details[\"resource_group\"]\n",
    "    workspace_region = ws_details[\"workspace_region\"]\n",
    "\n",
    "    ws = Workspace.create(\n",
    "        name=workspace_name,\n",
    "        subscription_id=subscription_id,\n",
    "        resource_group=resource_group,\n",
    "        location=workspace_region,\n",
    "        create_resource_group=False,\n",
    "        exist_ok=True,\n",
    "    )\n",
    "\n",
    "    ws.write_config()\n",
    "    print(\"Workspace Created\")"
   ]
  }
 ],
 "metadata": {
  "interpreter": {
   "hash": "6db9c8d9f0cce2d9127e384e15560d42c3b661994c9f717d0553d1d8985ab1ea"
  },
  "kernelspec": {
   "display_name": "Python 3.7.13 ('dev')",
   "language": "python",
   "name": "python3"
  },
  "language_info": {
   "codemirror_mode": {
    "name": "ipython",
    "version": 3
   },
   "file_extension": ".py",
   "mimetype": "text/x-python",
   "name": "python",
   "nbconvert_exporter": "python",
   "pygments_lexer": "ipython3",
   "version": "3.7.13"
  },
  "orig_nbformat": 4
 },
 "nbformat": 4,
 "nbformat_minor": 2
}
